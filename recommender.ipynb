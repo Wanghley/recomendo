{
 "cells": [
  {
   "cell_type": "markdown",
   "metadata": {},
   "source": [
    "## Data getting"
   ]
  },
  {
   "cell_type": "code",
   "execution_count": 15,
   "metadata": {},
   "outputs": [
    {
     "name": "stdout",
     "output_type": "stream",
     "text": [
      "   Food_ID                  Name        C_Type  Veg_Non  \\\n",
      "0        1   summer squash salad  Healthy Food      veg   \n",
      "1        2  chicken minced salad  Healthy Food  non-veg   \n",
      "2        3  sweet chilli almonds         Snack      veg   \n",
      "3        4       tricolour salad  Healthy Food      veg   \n",
      "4        5        christmas cake       Dessert      veg   \n",
      "\n",
      "                                            Describe  \n",
      "0  white balsamic vinegar, lemon juice, lemon rin...  \n",
      "1  olive oil, chicken mince, garlic (minced), oni...  \n",
      "2  almonds whole, egg white, curry leaves, salt, ...  \n",
      "3  vinegar, honey/sugar, soy sauce, salt, garlic ...  \n",
      "4  christmas dry fruits (pre-soaked), orange zest...  \n"
     ]
    }
   ],
   "source": [
    "import pandas as pd\n",
    "\n",
    "# Load the dataset\n",
    "data = pd.read_csv('./data/foods-en-us.csv')\n",
    "\n",
    "# Display the first few rows\n",
    "print(data.head())\n"
   ]
  },
  {
   "cell_type": "markdown",
   "metadata": {},
   "source": [
    "## Data preprocessing"
   ]
  },
  {
   "cell_type": "markdown",
   "metadata": {},
   "source": [
    "I am going to use One-Hot Encoding for the categorical features to numerical features to be used to train the model. I will also use the StandardScaler to scale the numerical features."
   ]
  },
  {
   "cell_type": "code",
   "execution_count": 16,
   "metadata": {},
   "outputs": [],
   "source": [
    "# One-Hot Encoding of C_Type and Veg_Non\n",
    "data_encoded = pd.get_dummies(data, columns=['C_Type', 'Veg_Non'])"
   ]
  },
  {
   "cell_type": "code",
   "execution_count": 17,
   "metadata": {},
   "outputs": [
    {
     "data": {
      "text/html": [
       "<div>\n",
       "<style scoped>\n",
       "    .dataframe tbody tr th:only-of-type {\n",
       "        vertical-align: middle;\n",
       "    }\n",
       "\n",
       "    .dataframe tbody tr th {\n",
       "        vertical-align: top;\n",
       "    }\n",
       "\n",
       "    .dataframe thead th {\n",
       "        text-align: right;\n",
       "    }\n",
       "</style>\n",
       "<table border=\"1\" class=\"dataframe\">\n",
       "  <thead>\n",
       "    <tr style=\"text-align: right;\">\n",
       "      <th></th>\n",
       "      <th>Food_ID</th>\n",
       "      <th>Name</th>\n",
       "      <th>Describe</th>\n",
       "      <th>C_Type_ Korean</th>\n",
       "      <th>C_Type_Beverage</th>\n",
       "      <th>C_Type_Chinese</th>\n",
       "      <th>C_Type_Dessert</th>\n",
       "      <th>C_Type_French</th>\n",
       "      <th>C_Type_Healthy Food</th>\n",
       "      <th>C_Type_Indian</th>\n",
       "      <th>...</th>\n",
       "      <th>C_Type_Japanese</th>\n",
       "      <th>C_Type_Korean</th>\n",
       "      <th>C_Type_Mexican</th>\n",
       "      <th>C_Type_Nepalese</th>\n",
       "      <th>C_Type_Snack</th>\n",
       "      <th>C_Type_Spanish</th>\n",
       "      <th>C_Type_Thai</th>\n",
       "      <th>C_Type_Vietnames</th>\n",
       "      <th>Veg_Non_non-veg</th>\n",
       "      <th>Veg_Non_veg</th>\n",
       "    </tr>\n",
       "  </thead>\n",
       "  <tbody>\n",
       "    <tr>\n",
       "      <th>0</th>\n",
       "      <td>1</td>\n",
       "      <td>summer squash salad</td>\n",
       "      <td>white balsamic vinegar, lemon juice, lemon rin...</td>\n",
       "      <td>False</td>\n",
       "      <td>False</td>\n",
       "      <td>False</td>\n",
       "      <td>False</td>\n",
       "      <td>False</td>\n",
       "      <td>True</td>\n",
       "      <td>False</td>\n",
       "      <td>...</td>\n",
       "      <td>False</td>\n",
       "      <td>False</td>\n",
       "      <td>False</td>\n",
       "      <td>False</td>\n",
       "      <td>False</td>\n",
       "      <td>False</td>\n",
       "      <td>False</td>\n",
       "      <td>False</td>\n",
       "      <td>False</td>\n",
       "      <td>True</td>\n",
       "    </tr>\n",
       "    <tr>\n",
       "      <th>1</th>\n",
       "      <td>2</td>\n",
       "      <td>chicken minced salad</td>\n",
       "      <td>olive oil, chicken mince, garlic (minced), oni...</td>\n",
       "      <td>False</td>\n",
       "      <td>False</td>\n",
       "      <td>False</td>\n",
       "      <td>False</td>\n",
       "      <td>False</td>\n",
       "      <td>True</td>\n",
       "      <td>False</td>\n",
       "      <td>...</td>\n",
       "      <td>False</td>\n",
       "      <td>False</td>\n",
       "      <td>False</td>\n",
       "      <td>False</td>\n",
       "      <td>False</td>\n",
       "      <td>False</td>\n",
       "      <td>False</td>\n",
       "      <td>False</td>\n",
       "      <td>True</td>\n",
       "      <td>False</td>\n",
       "    </tr>\n",
       "    <tr>\n",
       "      <th>2</th>\n",
       "      <td>3</td>\n",
       "      <td>sweet chilli almonds</td>\n",
       "      <td>almonds whole, egg white, curry leaves, salt, ...</td>\n",
       "      <td>False</td>\n",
       "      <td>False</td>\n",
       "      <td>False</td>\n",
       "      <td>False</td>\n",
       "      <td>False</td>\n",
       "      <td>False</td>\n",
       "      <td>False</td>\n",
       "      <td>...</td>\n",
       "      <td>False</td>\n",
       "      <td>False</td>\n",
       "      <td>False</td>\n",
       "      <td>False</td>\n",
       "      <td>True</td>\n",
       "      <td>False</td>\n",
       "      <td>False</td>\n",
       "      <td>False</td>\n",
       "      <td>False</td>\n",
       "      <td>True</td>\n",
       "    </tr>\n",
       "    <tr>\n",
       "      <th>3</th>\n",
       "      <td>4</td>\n",
       "      <td>tricolour salad</td>\n",
       "      <td>vinegar, honey/sugar, soy sauce, salt, garlic ...</td>\n",
       "      <td>False</td>\n",
       "      <td>False</td>\n",
       "      <td>False</td>\n",
       "      <td>False</td>\n",
       "      <td>False</td>\n",
       "      <td>True</td>\n",
       "      <td>False</td>\n",
       "      <td>...</td>\n",
       "      <td>False</td>\n",
       "      <td>False</td>\n",
       "      <td>False</td>\n",
       "      <td>False</td>\n",
       "      <td>False</td>\n",
       "      <td>False</td>\n",
       "      <td>False</td>\n",
       "      <td>False</td>\n",
       "      <td>False</td>\n",
       "      <td>True</td>\n",
       "    </tr>\n",
       "    <tr>\n",
       "      <th>4</th>\n",
       "      <td>5</td>\n",
       "      <td>christmas cake</td>\n",
       "      <td>christmas dry fruits (pre-soaked), orange zest...</td>\n",
       "      <td>False</td>\n",
       "      <td>False</td>\n",
       "      <td>False</td>\n",
       "      <td>True</td>\n",
       "      <td>False</td>\n",
       "      <td>False</td>\n",
       "      <td>False</td>\n",
       "      <td>...</td>\n",
       "      <td>False</td>\n",
       "      <td>False</td>\n",
       "      <td>False</td>\n",
       "      <td>False</td>\n",
       "      <td>False</td>\n",
       "      <td>False</td>\n",
       "      <td>False</td>\n",
       "      <td>False</td>\n",
       "      <td>False</td>\n",
       "      <td>True</td>\n",
       "    </tr>\n",
       "  </tbody>\n",
       "</table>\n",
       "<p>5 rows × 21 columns</p>\n",
       "</div>"
      ],
      "text/plain": [
       "   Food_ID                  Name  \\\n",
       "0        1   summer squash salad   \n",
       "1        2  chicken minced salad   \n",
       "2        3  sweet chilli almonds   \n",
       "3        4       tricolour salad   \n",
       "4        5        christmas cake   \n",
       "\n",
       "                                            Describe  C_Type_ Korean  \\\n",
       "0  white balsamic vinegar, lemon juice, lemon rin...           False   \n",
       "1  olive oil, chicken mince, garlic (minced), oni...           False   \n",
       "2  almonds whole, egg white, curry leaves, salt, ...           False   \n",
       "3  vinegar, honey/sugar, soy sauce, salt, garlic ...           False   \n",
       "4  christmas dry fruits (pre-soaked), orange zest...           False   \n",
       "\n",
       "   C_Type_Beverage  C_Type_Chinese  C_Type_Dessert  C_Type_French  \\\n",
       "0            False           False           False          False   \n",
       "1            False           False           False          False   \n",
       "2            False           False           False          False   \n",
       "3            False           False           False          False   \n",
       "4            False           False            True          False   \n",
       "\n",
       "   C_Type_Healthy Food  C_Type_Indian  ...  C_Type_Japanese  C_Type_Korean  \\\n",
       "0                 True          False  ...            False          False   \n",
       "1                 True          False  ...            False          False   \n",
       "2                False          False  ...            False          False   \n",
       "3                 True          False  ...            False          False   \n",
       "4                False          False  ...            False          False   \n",
       "\n",
       "   C_Type_Mexican  C_Type_Nepalese  C_Type_Snack  C_Type_Spanish  C_Type_Thai  \\\n",
       "0           False            False         False           False        False   \n",
       "1           False            False         False           False        False   \n",
       "2           False            False          True           False        False   \n",
       "3           False            False         False           False        False   \n",
       "4           False            False         False           False        False   \n",
       "\n",
       "   C_Type_Vietnames  Veg_Non_non-veg  Veg_Non_veg  \n",
       "0             False            False         True  \n",
       "1             False             True        False  \n",
       "2             False            False         True  \n",
       "3             False            False         True  \n",
       "4             False            False         True  \n",
       "\n",
       "[5 rows x 21 columns]"
      ]
     },
     "execution_count": 17,
     "metadata": {},
     "output_type": "execute_result"
    }
   ],
   "source": [
    "data_encoded.head()"
   ]
  },
  {
   "cell_type": "markdown",
   "metadata": {},
   "source": [
    "For the Ingredients column, I decided to use the Text Vectorization TF-IDF (Term Frequency-Inverse Document Frequency) to convert the list of ingredients into a numerical feature vector"
   ]
  },
  {
   "cell_type": "code",
   "execution_count": 18,
   "metadata": {},
   "outputs": [],
   "source": [
    "from sklearn.feature_extraction.text import TfidfVectorizer"
   ]
  },
  {
   "cell_type": "code",
   "execution_count": 19,
   "metadata": {},
   "outputs": [],
   "source": [
    "# Initialize TF-IDF Vectorizer\n",
    "tfidf = TfidfVectorizer(stop_words='english')\n",
    "\n",
    "# Fit and transform the 'Describe' column\n",
    "tfidf_matrix = tfidf.fit_transform(data['Describe'])\n",
    "\n",
    "# Convert the TF-IDF matrix to a DataFrame\n",
    "tfidf_df = pd.DataFrame(tfidf_matrix.toarray(), columns=tfidf.get_feature_names_out())\n",
    "\n",
    "# Concatenate TF-IDF features with the original data\n",
    "data_final = pd.concat([data_encoded, tfidf_df], axis=1)\n",
    "\n",
    "# Drop the original 'Describe' column as it's now represented in TF-IDF\n",
    "data_final.drop(columns=['Describe', 'Name'], inplace=True)"
   ]
  },
  {
   "cell_type": "code",
   "execution_count": 20,
   "metadata": {},
   "outputs": [
    {
     "name": "stdout",
     "output_type": "stream",
     "text": [
      "   Food_ID  C_Type_ Korean  C_Type_Beverage  C_Type_Chinese  C_Type_Dessert  \\\n",
      "0        1           False            False           False           False   \n",
      "1        2           False            False           False           False   \n",
      "2        3           False            False           False           False   \n",
      "3        4           False            False           False           False   \n",
      "4        5           False            False           False            True   \n",
      "\n",
      "   C_Type_French  C_Type_Healthy Food  C_Type_Indian  C_Type_Italian  \\\n",
      "0          False                 True          False           False   \n",
      "1          False                 True          False           False   \n",
      "2          False                False          False           False   \n",
      "3          False                 True          False           False   \n",
      "4          False                False          False           False   \n",
      "\n",
      "   C_Type_Japanese  ...  yolk  yolks  yougurt  young  yut  zeera      zest  \\\n",
      "0            False  ...   0.0    0.0      0.0    0.0  0.0    0.0  0.000000   \n",
      "1            False  ...   0.0    0.0      0.0    0.0  0.0    0.0  0.000000   \n",
      "2            False  ...   0.0    0.0      0.0    0.0  0.0    0.0  0.000000   \n",
      "3            False  ...   0.0    0.0      0.0    0.0  0.0    0.0  0.000000   \n",
      "4            False  ...   0.0    0.0      0.0    0.0  0.0    0.0  0.513136   \n",
      "\n",
      "   zested  zinfandel  zucchini  \n",
      "0     0.0        0.0  0.274832  \n",
      "1     0.0        0.0  0.000000  \n",
      "2     0.0        0.0  0.000000  \n",
      "3     0.0        0.0  0.000000  \n",
      "4     0.0        0.0  0.000000  \n",
      "\n",
      "[5 rows x 1185 columns]\n"
     ]
    }
   ],
   "source": [
    "# Display the processed data\n",
    "print(data_final.head())\n"
   ]
  },
  {
   "cell_type": "code",
   "execution_count": 21,
   "metadata": {},
   "outputs": [],
   "source": [
    "from sklearn.model_selection import train_test_split"
   ]
  },
  {
   "cell_type": "code",
   "execution_count": 22,
   "metadata": {},
   "outputs": [],
   "source": [
    "from sklearn.metrics.pairwise import cosine_similarity"
   ]
  },
  {
   "cell_type": "code",
   "execution_count": 23,
   "metadata": {},
   "outputs": [],
   "source": [
    "# Compute the cosine similarity matrix\n",
    "cosine_sim = cosine_similarity(tfidf_matrix, tfidf_matrix)"
   ]
  },
  {
   "cell_type": "code",
   "execution_count": 24,
   "metadata": {},
   "outputs": [],
   "source": [
    "# Function to get recommendations based on food name\n",
    "def get_recommendations(food_name, cosine_sim=cosine_sim):\n",
    "    # Find the index of the food in the data\n",
    "    idx = data[data['Name'] == food_name].index[0]\n",
    "\n",
    "    # Get the similarity scores for all foods with that food\n",
    "    sim_scores = list(enumerate(cosine_sim[idx]))\n",
    "\n",
    "    # Sort the foods based on similarity scores\n",
    "    sim_scores = sorted(sim_scores, key=lambda x: x[1], reverse=True)\n",
    "\n",
    "    # Get the indices of the most similar foods\n",
    "    food_indices = [i[0] for i in sim_scores[1:6]]\n",
    "\n",
    "    # Return the top 5 most similar foods\n",
    "    return data['Name'].iloc[food_indices]\n"
   ]
  },
  {
   "cell_type": "code",
   "execution_count": 39,
   "metadata": {},
   "outputs": [
    {
     "name": "stdout",
     "output_type": "stream",
     "text": [
      "16               baked namakpara with roasted almond dip\n",
      "143                            shrimp & cilantro ceviche\n",
      "160                                     spanish fish fry\n",
      "163                                 green cucumber shots\n",
      "220    amaranthus granola with lemon yogurt, berries ...\n",
      "Name: Name, dtype: object\n"
     ]
    }
   ],
   "source": [
    "# Example: Get recommendations for 'summer squash salad'\n",
    "recommendations = get_recommendations('summer squash salad')\n",
    "print(recommendations)"
   ]
  },
  {
   "cell_type": "markdown",
   "metadata": {},
   "source": [
    "## MVP user profile recommendation"
   ]
  },
  {
   "cell_type": "code",
   "execution_count": 34,
   "metadata": {},
   "outputs": [],
   "source": [
    "user_profile = tfidf.transform([\"basil leaves, olive oil, garlic cloves\"])"
   ]
  },
  {
   "cell_type": "code",
   "execution_count": 35,
   "metadata": {},
   "outputs": [],
   "source": [
    "# Compute similarity between user profile and all foods\n",
    "user_similarity = cosine_similarity(user_profile, tfidf_matrix)"
   ]
  },
  {
   "cell_type": "code",
   "execution_count": 36,
   "metadata": {},
   "outputs": [
    {
     "name": "stdout",
     "output_type": "stream",
     "text": [
      "193            egg and cheddar cheese sandwich\n",
      "380                   Vietnamese Chicken Salad\n",
      "16     baked namakpara with roasted almond dip\n",
      "0                          summer squash salad\n",
      "109               chicken and mushroom lasagna\n",
      "Name: Name, dtype: object\n"
     ]
    }
   ],
   "source": [
    "# Get top recommendations\n",
    "user_top_indices = user_similarity.argsort()[0][-5:]\n",
    "user_recommendations = data['Name'].iloc[user_top_indices]\n",
    "print(user_recommendations)"
   ]
  }
 ],
 "metadata": {
  "kernelspec": {
   "display_name": "Python 3",
   "language": "python",
   "name": "python3"
  },
  "language_info": {
   "codemirror_mode": {
    "name": "ipython",
    "version": 3
   },
   "file_extension": ".py",
   "mimetype": "text/x-python",
   "name": "python",
   "nbconvert_exporter": "python",
   "pygments_lexer": "ipython3",
   "version": "3.12.5"
  }
 },
 "nbformat": 4,
 "nbformat_minor": 2
}
